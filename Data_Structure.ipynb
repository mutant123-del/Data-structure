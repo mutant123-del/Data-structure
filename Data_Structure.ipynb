{
  "nbformat": 4,
  "nbformat_minor": 0,
  "metadata": {
    "colab": {
      "provenance": []
    },
    "kernelspec": {
      "name": "python3",
      "display_name": "Python 3"
    },
    "language_info": {
      "name": "python"
    }
  },
  "cells": [
    {
      "cell_type": "markdown",
      "source": [],
      "metadata": {
        "id": "en1Y3Q4O2QHm"
      }
    },
    {
      "cell_type": "markdown",
      "source": [
        "Data Types and Structures Questions:-\n",
        "\n",
        "1. What are data structures, and why are they important?\n",
        "    - Data structures are ways to store and organize data (like lists, tuples, sets, dictionaries).\n",
        "    They are important because they help manage data efficiently and make programs faster and easier to understand.\n",
        "\n",
        "2. Explain the difference between mutable and immutable data types with examples?\n",
        "   - Mutable: Can be changed after creation\n",
        "    IMMutable: Can't be changed after creation\n",
        "\n",
        "3. What are the main differences between lists and tuples in Python?\n",
        "    - Lists [] are mutable ,slower, and can change value while tuple() is immutable , faster and value can't be changed\n",
        "\n",
        "4. Describe how dictionaries store data?\n",
        "    - Dictionaries store data as key-value pairs using a hash table internally.\n",
        "For ex:- student = {\"name\": \"John\", \"age\": 20}\n",
        "Here, \"name\" is the key, and \"John\" is the value.\n",
        "\n",
        "5. Why might you use a set instead of a list in Python?\n",
        "    - Set remove duplicate values automatically that's why we use set\n",
        "\n",
        "6. What is a string in Python, and how is it different from a list?\n",
        "   - String is a sequence of charaters and strings are immutable\n",
        "\n",
        "7. How do tuples ensure data integrity in Python\n",
        "   - Because tuples are immutable, their values cannot be changed-this prevents accidental modification of important data.\n",
        "\n",
        "8. What is a hash table, and how does it relate to dictionaries in Python?\n",
        "   - A hash table is a data structure that maps keys to values using a hash function.\n",
        "  Python dictionaries use hash tables internally for fast access.\n",
        "\n",
        "9. Can lists contain different data types in Python?\n",
        "   - Yes can contain different data types\n",
        "\n",
        "10. Explain why strings are immutable in Python?\n",
        "    - Because Python stores strings in memory in a way that reuses them for efficiency and safety. Changing a string would create a new one instead of modifying it.\n",
        "\n",
        "11. What advantages do dictionaries offer over lists for certain tasks?\n",
        "    - Dictionary are fastest way to find data and fast lookups by keys\n",
        "\n",
        "12. Describe a scenario where using a tuple would be preferable over a list?\n",
        "   - 1. When we want to data value is fixed\n",
        "      2. When we want to remove duplicate values\n",
        "\n",
        "13. How do sets handle duplicate values in Python\n",
        "    - Sets ignored duplicate value automatecally\n",
        "\n",
        "14. How does the \"in\" keyword work differently for lists and dictionaries?\n",
        "    - In list checks values and in dicts checks keys\n",
        "\n",
        "15. Can you modify the elements of a tuple? Explain why or why not?\n",
        "    - No, tuples are immutable once created their values cannot change.\n",
        "\n",
        "16. What is a nested dictionary, and give an example of its use case?\n",
        "    - A dictionary inside another dictionary.\n",
        "\n",
        "17. Describe the time complexity of accessing elements in a dictionary?\n",
        "    - O(1) on average very fast, because of hash table lookup.\n",
        "18. In what situations are lists preferred over dictionaries?\n",
        "    - When order matters and if you just need simple collections (like names, numbers) without saving key-value mapping\n",
        "\n",
        "19. Why are dictionaries considered unordered, and how does that affect data retrieval\n",
        "    - Dict are unordered but you can access any value by keys\n",
        "\n",
        "20. Explain the difference between a list and a dictionary in terms of data retrieval.\n",
        "    - List data can access by indexing and list can access by key\n"
      ],
      "metadata": {
        "id": "WFdEIDDD0R9X"
      }
    },
    {
      "cell_type": "code",
      "execution_count": 1,
      "metadata": {
        "id": "fD4ApNOIzVY8",
        "colab": {
          "base_uri": "https://localhost:8080/"
        },
        "outputId": "6b83f49c-5822-4f55-d2bf-c3d0f03801f2"
      },
      "outputs": [
        {
          "output_type": "stream",
          "name": "stdout",
          "text": [
            "pranesh\n"
          ]
        }
      ],
      "source": [
        "# 1. Write a code to create a string with your name and print it?\n",
        "a =\"pranesh\"\n",
        "print(a)"
      ]
    },
    {
      "cell_type": "code",
      "source": [
        "# 2. Write a code to find the length of the string \"Hello World\"\n",
        "a = \"hello world\"\n",
        "print(len(a))"
      ],
      "metadata": {
        "id": "gK71mfwg-6zT"
      },
      "execution_count": null,
      "outputs": []
    },
    {
      "cell_type": "code",
      "source": [
        "# 3. Write a code to slice the first 3 characters from the string \"Python Programming\"\n",
        "a = \"Python Programming\"\n",
        "print(a[0:3])"
      ],
      "metadata": {
        "id": "rCFtu4PM-9nf"
      },
      "execution_count": null,
      "outputs": []
    },
    {
      "cell_type": "code",
      "source": [
        "# 4. Write a code to convert the string \"hello\" to uppercase\n",
        "a = \"hello\"\n",
        "print(a.upper())"
      ],
      "metadata": {
        "id": "LFllLHU3-9y9"
      },
      "execution_count": null,
      "outputs": []
    },
    {
      "cell_type": "code",
      "source": [
        "# 5.Write a code to replace the word \"apple\" with \"orange\" in the string \"I like apple\"\n",
        "a = \"I like apple\"\n",
        "print(a.replace(\"apple\",\"orange\"))"
      ],
      "metadata": {
        "id": "xEIFK_pX-9-q"
      },
      "execution_count": null,
      "outputs": []
    },
    {
      "cell_type": "code",
      "source": [
        "# 6. Write a code to create a list with numbers 1 to 5 and print it\n",
        "a = [1, 2, 3, 4, 5]\n",
        "print(a)"
      ],
      "metadata": {
        "id": "PNQULkcA--gi"
      },
      "execution_count": null,
      "outputs": []
    },
    {
      "cell_type": "code",
      "source": [
        "# 7.Write a code to append the number 10 to the list [1, 2, 3, 4]\n",
        "a = [1, 2, 3, 4]\n",
        "a.append(10)\n",
        "print(a)"
      ],
      "metadata": {
        "id": "-rzoUtBe--s3"
      },
      "execution_count": null,
      "outputs": []
    },
    {
      "cell_type": "code",
      "source": [
        "# 8. Write a code to remove the number 3 from the list [1, 2, 3, 4, 5]\n",
        "a = [1, 2, 3, 4, 5]\n",
        "a.pop(3)\n",
        "print(a)"
      ],
      "metadata": {
        "id": "p5ktJzNr--xN"
      },
      "execution_count": null,
      "outputs": []
    },
    {
      "cell_type": "code",
      "source": [
        "# 9. Write a code to access the second element in the list ['a', 'b', 'c', 'd']\n",
        "a = ['a', 'b', 'c', 'd']\n",
        "print(a[1])"
      ],
      "metadata": {
        "id": "SVnMcpqs--1c"
      },
      "execution_count": null,
      "outputs": []
    },
    {
      "cell_type": "code",
      "source": [
        "# 10. Write a code to reverse the list [10, 20, 30, 40, 50]\n",
        "a = [10, 20, 30, 40, 50]\n",
        "print(a[::-1])"
      ],
      "metadata": {
        "id": "jrBjh_Pw--5R"
      },
      "execution_count": null,
      "outputs": []
    },
    {
      "cell_type": "code",
      "source": [
        "# 11. Write a code to create a tuple with the elements 100, 200, 300 and print it.\n",
        "a = (1,2,2,3,4)\n",
        "print(a)"
      ],
      "metadata": {
        "id": "zyYC-nkX--85"
      },
      "execution_count": null,
      "outputs": []
    },
    {
      "cell_type": "code",
      "source": [
        "# 12.Write a code to access the second-to-last element of the tuple ('red', 'green', 'blue', 'yellow').\n",
        "a = ('red', 'green', 'blue', 'yellow')\n",
        "print(a[-2])"
      ],
      "metadata": {
        "id": "5GRpV1Ba-_Ao"
      },
      "execution_count": null,
      "outputs": []
    },
    {
      "cell_type": "code",
      "source": [
        "# 13. Write a code to find the minimum number in the tuple (10, 20, 5, 15).\n",
        "a = (10, 20, 5, 15)\n",
        "print(min(a))"
      ],
      "metadata": {
        "id": "GQY5KbtC_dNO"
      },
      "execution_count": null,
      "outputs": []
    },
    {
      "cell_type": "code",
      "source": [
        "# 14. Write a code to find the index of the element \"cat\" in the tuple ('dog', 'cat', 'rabbit').\n",
        "a = ('dog', 'cat', 'rabbit')\n",
        "print(a.index('cat'))"
      ],
      "metadata": {
        "id": "SG6oJx5-_dQf"
      },
      "execution_count": null,
      "outputs": []
    },
    {
      "cell_type": "code",
      "source": [
        "# 15. Write a code to create a tuple containing three different fruits and check if \"kiwi\" is in it.\n",
        "a = ('apple', 'banana', 'mango')\n",
        "print(\"kiwi\" in a)"
      ],
      "metadata": {
        "id": "toxJ-PK9_dWz"
      },
      "execution_count": null,
      "outputs": []
    },
    {
      "cell_type": "code",
      "source": [
        "# 16. Write a code to create a set with the elements 'a', 'b', 'c' and print it.\n",
        "a = {'a','b','c'}\n",
        "print(a)"
      ],
      "metadata": {
        "id": "HM-lVttD_dbu"
      },
      "execution_count": null,
      "outputs": []
    },
    {
      "cell_type": "code",
      "source": [
        "#17. Write a code to clear all elements from the set {1, 2, 3, 4, 5}.\n",
        "a = {1, 2, 3, 4, 5}\n",
        "a.clear()\n",
        "print(a)"
      ],
      "metadata": {
        "id": "TKmHzxKG_dfo"
      },
      "execution_count": null,
      "outputs": []
    },
    {
      "cell_type": "code",
      "source": [
        "# 18. Write a code to remove the element 4 from the set {1, 2, 3, 4}.\n",
        "a = {1, 2, 3, 4}\n",
        "a.remove(4)\n",
        "print(a)"
      ],
      "metadata": {
        "id": "Ay_EDuFm_djD"
      },
      "execution_count": null,
      "outputs": []
    },
    {
      "cell_type": "code",
      "source": [
        "# 19. Write a code to find the union of two sets {1, 2, 3} and {3, 4, 5}.\n",
        "a1 = {1, 2, 3}\n",
        "a2 = {3, 4, 5}\n",
        "print(a1.union(a2))"
      ],
      "metadata": {
        "id": "NNXBdtSz_dqT"
      },
      "execution_count": null,
      "outputs": []
    },
    {
      "cell_type": "code",
      "source": [
        "# 20. Write a code to find the intersection of two sets {1, 2, 3} and {2, 3, 4}.\n",
        "a1 = {1, 2, 3}\n",
        "a2 = {2, 3, 4}\n",
        "print(a1.intersection(a2))"
      ],
      "metadata": {
        "colab": {
          "base_uri": "https://localhost:8080/"
        },
        "id": "XeFMiZSE_dz5",
        "outputId": "3643a9b0-98fa-4097-88c6-2f49cfb556b9"
      },
      "execution_count": 2,
      "outputs": [
        {
          "output_type": "stream",
          "name": "stdout",
          "text": [
            "{2, 3}\n"
          ]
        }
      ]
    },
    {
      "cell_type": "code",
      "source": [
        "# 21. Write a code to create a dictionary with the keys \"name\", \"age\", and \"city\", and print it.\n",
        "a1 = {\"name\": \"John\", \"age\": 25, \"city\": \"New York\"}\n",
        "print(a1)"
      ],
      "metadata": {
        "id": "7QPCuneA_d5W"
      },
      "execution_count": null,
      "outputs": []
    },
    {
      "cell_type": "code",
      "source": [
        "# 22. Write a code to add a new key-value pair \"country\": \"USA\" to the dictionary {'name': 'John', 'age': 25}.\n",
        "a1 = {'name': 'John', 'age': 25}\n",
        "a1['country'] = 'USA'\n",
        "print(a1)"
      ],
      "metadata": {
        "id": "R__4KqrC_d_i"
      },
      "execution_count": null,
      "outputs": []
    },
    {
      "cell_type": "code",
      "source": [
        "# 23. Write a code to access the value associated with the key \"name\" in the dictionary {'name': 'Alice', 'age': 30}.\n",
        "a1 = {'name': 'John', 'age': 25}\n",
        "print(a1['name'])"
      ],
      "metadata": {
        "id": "ExGdfoLB_eIV"
      },
      "execution_count": null,
      "outputs": []
    },
    {
      "cell_type": "code",
      "source": [
        "# 24. Write a code to remove the key \"age\" from the dictionary {'name': 'Bob', 'age': 22, 'city': 'New York'}.\n",
        "d1 = {'name': 'Bob', 'age': 22, 'city': 'New York'}\n",
        "d1.pop('age')\n",
        "print(d1)"
      ],
      "metadata": {
        "id": "qYKOqu00-_D-"
      },
      "execution_count": null,
      "outputs": []
    },
    {
      "cell_type": "code",
      "source": [
        "# 25. Write a code to check if the key \"city\" exists in the dictionary {'name': 'Alice', 'city': 'Paris'}.\n",
        "d1 = {'name': 'Alice', 'city': 'Paris'}\n",
        "print('city' in d1)"
      ],
      "metadata": {
        "id": "DYrYhRyZ-_JN"
      },
      "execution_count": null,
      "outputs": []
    },
    {
      "cell_type": "code",
      "source": [
        "# 26. Write a code to create a list, a tuple, and a dictionary, and print them all.\n",
        "l1 = [1, 2, 3]\n",
        "t1 = ('a', 'b', 'c')\n",
        "d1 = {'key1': 'value1', 'key2': 'value2'}\n",
        "print(l1)\n",
        "print(t1)\n",
        "print(d1)"
      ],
      "metadata": {
        "id": "UdPdw7Xl-_M0"
      },
      "execution_count": null,
      "outputs": []
    },
    {
      "cell_type": "code",
      "source": [
        "# 27. Write a code to create a list of 5 random numbers between 1 and 100, sort it in ascending order, and print the result.(replaced)\n",
        "import random\n",
        "a = (random.randint(1,100))\n",
        "\n",
        "for  i in range (5):\n",
        "    print(a)"
      ],
      "metadata": {
        "colab": {
          "base_uri": "https://localhost:8080/"
        },
        "id": "uAMWzADdAKcP",
        "outputId": "e1ea70f7-10c5-4f4e-bb64-4572147b5799"
      },
      "execution_count": 3,
      "outputs": [
        {
          "output_type": "stream",
          "name": "stdout",
          "text": [
            "22\n",
            "22\n",
            "22\n",
            "22\n",
            "22\n"
          ]
        }
      ]
    },
    {
      "cell_type": "code",
      "source": [
        "# 28. Write a code to create a list with strings and print the element at the third index.\n",
        "a = ['apple', 'banana', 'cherry', 'date', 'elderberry']\n",
        "print(a[3])\n"
      ],
      "metadata": {
        "id": "r7sIhhVR-_QN"
      },
      "execution_count": null,
      "outputs": []
    },
    {
      "cell_type": "code",
      "source": [
        "# 29. Write a code to combine two dictionaries into one and print the result."
      ],
      "metadata": {
        "id": "-aWJbhIj-_US"
      },
      "execution_count": null,
      "outputs": []
    },
    {
      "cell_type": "code",
      "source": [
        "# 30. Write a code to convert a list of strings into a set.\n",
        "a = [1,2,3,4,5]\n",
        "b = set(a)\n",
        "print(b)"
      ],
      "metadata": {
        "id": "6YXiEquT-_Xv"
      },
      "execution_count": null,
      "outputs": []
    }
  ]
}